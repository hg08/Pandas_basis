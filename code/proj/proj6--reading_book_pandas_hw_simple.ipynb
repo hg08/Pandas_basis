{
 "cells": [
  {
   "cell_type": "markdown",
   "metadata": {},
   "source": [
    "# 利用pandas做文本的统计分析"
   ]
  },
  {
   "cell_type": "code",
   "execution_count": 1,
   "metadata": {},
   "outputs": [],
   "source": [
    "# 测试文本\n",
    "text = \"This is a text. I wirte it for testing. If 'you' want to change it to any other content, you can try it and it does not matter.\"\n",
    "\n",
    "# 写一个函数,统计词频,返回一个字典 count_dict. 其关键字为单词,其对应的值为该单词在文本中出现的次数\n",
    "def count_words(text):\n",
    "    count_dict = {}\n",
    "    for word in text.split(\" \"):\n",
    "        # 对于见过的词, 数目加1\n",
    "        if word in count_dict:\n",
    "            #==your code\n",
    "            \n",
    "        #对于未见的词,...\n",
    "        else:\n",
    "            #==Your code\n",
    "    return count_dict\n",
    "# 测试\n",
    "count_words(text)"
   ]
  },
  {
   "cell_type": "code",
   "execution_count": 2,
   "metadata": {},
   "outputs": [],
   "source": [
    "# 对上面的函数做修改,使得它将单词的大小写视为同样的单词\n",
    "\n",
    "def count_words(text):\n",
    "    #==Your code\n",
    "    \n",
    "    return count_dict\n",
    "\n",
    "count_words(text)"
   ]
  },
  {
   "cell_type": "code",
   "execution_count": 3,
   "metadata": {},
   "outputs": [],
   "source": [
    "# 去除标点符号. \n",
    "# 提示: 可以使用 字符串的replace()函数\n",
    "\n",
    "def count_words(text):\n",
    "    #==your code\n",
    "    \n",
    "    return count_dict\n",
    "\n",
    "count_words(text)"
   ]
  },
  {
   "cell_type": "code",
   "execution_count": 5,
   "metadata": {},
   "outputs": [],
   "source": [
    "# 利用collections里面的Counter工具完成count_words(text)同样的功能\n",
    "from collections import Counter\n",
    "\n",
    "def count_words_simple(text):\n",
    "    \"\"\"统计给定文本中的词频. 返回一个字典,每个单词作为关键字,其出现的次数作为对应的值.不区分大小写,去除标点符号.\"\"\"\n",
    "    #可参考的函数: 字符串的lower(), replace(),split()等函数\n",
    "    \n",
    "    #==Your code\n",
    "    \n",
    "    return word_count\n",
    "\n",
    "count_words_simple(text)"
   ]
  },
  {
   "cell_type": "code",
   "execution_count": 6,
   "metadata": {},
   "outputs": [],
   "source": [
    "#输入text到前面的两种方法,对比两种方法的结果,返回布尔值\n"
   ]
  },
  {
   "cell_type": "code",
   "execution_count": 7,
   "metadata": {},
   "outputs": [],
   "source": [
    "#打印出以下表达式的结果 : count_words(text) is count_words_simple(text)"
   ]
  },
  {
   "cell_type": "code",
   "execution_count": 174,
   "metadata": {},
   "outputs": [],
   "source": [
    "#现在我们定义了一个函数如下,它读取一本电子书的数据,保存到text字符串中.\n",
    "def read_book(book_path):\n",
    "    with open(book_path, encoding='utf8') as file:\n",
    "        text = file.read()\n",
    "        text = text.replace(\"\\n\",\"\").replace(\"\\r\", \"\")\n",
    "        \n",
    "    return text\n"
   ]
  },
  {
   "cell_type": "code",
   "execution_count": 8,
   "metadata": {},
   "outputs": [],
   "source": [
    "# 在此cell下方重新打开一个cell,运行pwd命令, 查看返回的当前路径"
   ]
  },
  {
   "cell_type": "code",
   "execution_count": 9,
   "metadata": {},
   "outputs": [],
   "source": [
    "# 把Books文件夹放入到你当前工作的文件夹下.然后\n",
    "#进入Books/English/shakespeare/ 文件夹. 可以用cd命令.\n",
    "#cd Books\\English\\shakespeare\\"
   ]
  },
  {
   "cell_type": "code",
   "execution_count": 10,
   "metadata": {},
   "outputs": [],
   "source": []
  },
  {
   "cell_type": "code",
   "execution_count": 11,
   "metadata": {},
   "outputs": [],
   "source": [
    "#找到 \"Romeo and Juliet.txt\" 这本电子书,调用read_book()函数,把这本书保存到text中. 电子书的路径的写法举例:\n",
    "#   r'C:\\Users\\huang\\algorithms_2nd_edition\\lec_research\\language_processing\\Books\\English\\shakespeare\\Romeo and Juliet.txt'\n",
    "\n",
    "\n",
    "\n",
    "#打印出 text中的单词总数\n",
    "\n",
    "\n",
    "\n"
   ]
  },
  {
   "cell_type": "code",
   "execution_count": 179,
   "metadata": {},
   "outputs": [],
   "source": [
    "#找到某一句话,将其保存为索引变量ind. 直接运行如下命令:  ind = text.find(\"Take all myself.\")"
   ]
  },
  {
   "cell_type": "code",
   "execution_count": 12,
   "metadata": {},
   "outputs": [],
   "source": [
    "# 打印出ind"
   ]
  },
  {
   "cell_type": "code",
   "execution_count": 181,
   "metadata": {},
   "outputs": [],
   "source": [
    "# 利用ind对text做切片. 运行如下命令: sample = text[ind: ind+300]"
   ]
  },
  {
   "cell_type": "code",
   "execution_count": 13,
   "metadata": {},
   "outputs": [],
   "source": [
    "# 打印出 sample"
   ]
  },
  {
   "cell_type": "code",
   "execution_count": 14,
   "metadata": {},
   "outputs": [],
   "source": [
    "# 定义词频统计函数\n",
    "def word_stats(word_counts):\n",
    "    \"\"\"返回用词个数和词频\"\"\"\n",
    "    num_unique = len(word_counts)\n",
    "    counts = word_counts.values()\n",
    "    return (num_unique, counts)\n",
    "\n",
    "#调用read_book(), 把电子书Romeo and Juliet.txt读入text:\n",
    "text = #==Your code\n",
    "word_counts = #==YOur code\n",
    "num_unique, counts = #==Your code\n",
    "print(num_unique)\n",
    "sum(counts)\n"
   ]
  },
  {
   "cell_type": "code",
   "execution_count": 186,
   "metadata": {},
   "outputs": [
    {
     "name": "stdout",
     "output_type": "stream",
     "text": [
      "8639\n"
     ]
    },
    {
     "data": {
      "text/plain": [
       "20311"
      ]
     },
     "execution_count": 186,
     "metadata": {},
     "output_type": "execute_result"
    }
   ],
   "source": [
    "# 对照\n",
    "#text = read_book(r'C:\\Users\\huang\\algorithms_2nd_edition\\lec_research\\language_processing\\Books\\German\\shakespeare\\Romeo und Julia.txt')\n",
    "#参考上面一行,修改路径, 定义出text.\n",
    "text = # your code\n",
    "word_counts = count_words(text)\n",
    "num_unique, counts = word_stats(word_counts)\n",
    "print(num_unique)\n",
    "sum(counts)"
   ]
  },
  {
   "cell_type": "code",
   "execution_count": 16,
   "metadata": {},
   "outputs": [],
   "source": [
    "# 读多个文件 并用pandas作分析\n",
    "import os \n",
    "book_dir = # Books文件夹的路径\n",
    "print(os.listdir(book_dir))\n",
    "\n",
    "import pandas as pd\n",
    "stats = pd.DataFrame(columns = (\"language\",\"who\",\"title\",\"length\",\"unique\"))\n",
    "title_num = 1\n",
    "\n",
    "\n",
    "for language in os.listdir(book_dir):\n",
    "    for author in os.listdir(book_dir + \"\\\\\" + language):\n",
    "        for title in os.listdir(book_dir + \"\\\\\" + language + \"\\\\\" + author):\n",
    "            input_file = #==Your code\n",
    "            print(input_file)\n",
    "            text = #==Your code\n",
    "            num_unique, counts = #==Your code\n",
    "            stats.loc[title_num] = language, author.capitalize(), title.replace(\".txt\",\"\"), sum(counts), num_unique \n",
    "            title_num  += 1\n",
    "            \n",
    "stats"
   ]
  },
  {
   "cell_type": "code",
   "execution_count": 17,
   "metadata": {},
   "outputs": [],
   "source": [
    "# 打印出表格stats的前10行 和最后10行\n"
   ]
  },
  {
   "cell_type": "code",
   "execution_count": 18,
   "metadata": {},
   "outputs": [],
   "source": [
    "# 3.2.6. 统计作图\n",
    "# 提取表格某一列数据的方法, 例如length, unique\n"
   ]
  },
  {
   "cell_type": "code",
   "execution_count": 19,
   "metadata": {},
   "outputs": [],
   "source": [
    "#提取出作者(列名为\"who\")列 \n"
   ]
  },
  {
   "cell_type": "code",
   "execution_count": 20,
   "metadata": {},
   "outputs": [],
   "source": [
    "# 用matplotlib作散点图: 横纵坐标分别为 stats.unique, stats.length \n",
    "# 可以利用plt.plot(),或者 plt.loglog()作图\n",
    "import matplotlib.pyplot as plt\n",
    "# 散点图\n",
    "#"
   ]
  },
  {
   "cell_type": "code",
   "execution_count": 21,
   "metadata": {},
   "outputs": [],
   "source": [
    "# 通过索引提取数据\n",
    "# 在DataFrame表格stats中,选择语言为德语的那些行\n"
   ]
  },
  {
   "cell_type": "code",
   "execution_count": 24,
   "metadata": {},
   "outputs": [],
   "source": [
    "# 作图\n",
    "# 分别选出stats.language分别为\"German\", \"French\"和\"English\"的哪些行,对他们分别做出散点图 \n",
    "# 对(subset.length, subset.unique)作图\n",
    "\n",
    "#导入matplotlib.pyplot模块\n",
    "#==YOur code\n",
    "\n",
    "# 设置图片尺寸\n",
    "plt.figure(figsize = (5,5))\n",
    "\n",
    "subset = stats[stats.language == \"German\"]\n",
    "plt.loglog(subset.length, subset.unique, \"or\",label=\"German\")\n",
    "\n",
    "\n",
    "subset = stats[stats.language == \"French\"]\n",
    "plt.loglog(subset.length, subset.unique, \"ob\",label=\"French\")\n",
    "\n",
    "subset = stats[stats.language == \"English\"]\n",
    "plt.loglog(subset.length, subset.unique, \"o\",label=\"English\", c=\"orange\")\n",
    "\n",
    "plt.legend()\n",
    "plt.xlabel(\"Length\")\n",
    "plt.ylabel(\"Unique words\")\n",
    "\n",
    "# 你可以将你做出的图保存为文件.如下\n",
    "#plt.savefig(\"book_stats.pdf\")"
   ]
  },
  {
   "cell_type": "code",
   "execution_count": 22,
   "metadata": {},
   "outputs": [],
   "source": [
    "#提取出stats表格的列名为\"length\"的数据,返回结果为一个Series."
   ]
  },
  {
   "cell_type": "code",
   "execution_count": null,
   "metadata": {},
   "outputs": [],
   "source": []
  },
  {
   "cell_type": "code",
   "execution_count": 23,
   "metadata": {},
   "outputs": [],
   "source": [
    "#提取出stats表格的\"length\"列"
   ]
  }
 ],
 "metadata": {
  "kernelspec": {
   "display_name": "Python 3",
   "language": "python",
   "name": "python3"
  },
  "language_info": {
   "codemirror_mode": {
    "name": "ipython",
    "version": 3
   },
   "file_extension": ".py",
   "mimetype": "text/x-python",
   "name": "python",
   "nbconvert_exporter": "python",
   "pygments_lexer": "ipython3",
   "version": "3.6.5"
  },
  "widgets": {
   "state": {},
   "version": "1.1.2"
  }
 },
 "nbformat": 4,
 "nbformat_minor": 2
}
